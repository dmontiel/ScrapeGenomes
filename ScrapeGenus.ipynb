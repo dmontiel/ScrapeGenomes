{
 "cells": [
  {
   "cell_type": "markdown",
   "metadata": {},
   "source": [
    "MiBig is a curated resource of characterized natural products and their source organisms. This notebook takes as input a csv file of organisms from the MiBig website, searches NCBI for genome data and retrieves it."
   ]
  },
  {
   "cell_type": "code",
   "execution_count": 42,
   "metadata": {
    "collapsed": false
   },
   "outputs": [],
   "source": [
    "import numpy as np\n",
    "import pandas as pd\n",
    "import urllib2\n",
    "import urllib\n",
    "import gzip\n",
    "from bs4 import BeautifulSoup\n",
    "import time"
   ]
  },
  {
   "cell_type": "code",
   "execution_count": 2,
   "metadata": {
    "collapsed": false
   },
   "outputs": [
    {
     "data": {
      "text/html": [
       "<div>\n",
       "<table border=\"1\" class=\"dataframe\">\n",
       "  <thead>\n",
       "    <tr style=\"text-align: right;\">\n",
       "      <th></th>\n",
       "      <th>MIBiG accession</th>\n",
       "      <th>Full / partial MIBiG info</th>\n",
       "      <th>Main product</th>\n",
       "      <th>Biosynthetic class</th>\n",
       "      <th>Organism</th>\n",
       "    </tr>\n",
       "  </thead>\n",
       "  <tbody>\n",
       "    <tr>\n",
       "      <th>0</th>\n",
       "      <td>BGC0000001</td>\n",
       "      <td>Full</td>\n",
       "      <td>abyssomicin</td>\n",
       "      <td>Polyketide</td>\n",
       "      <td>Verrucosispora maris AB-18-032</td>\n",
       "    </tr>\n",
       "    <tr>\n",
       "      <th>1</th>\n",
       "      <td>BGC0000016</td>\n",
       "      <td>Full</td>\n",
       "      <td>amphotericin</td>\n",
       "      <td>Other</td>\n",
       "      <td>Streptomyces nodosus</td>\n",
       "    </tr>\n",
       "    <tr>\n",
       "      <th>2</th>\n",
       "      <td>BGC0000017</td>\n",
       "      <td>Full</td>\n",
       "      <td>anatoxin</td>\n",
       "      <td>Alkaloid / Polyketide</td>\n",
       "      <td>Oscillatoria sp. PCC 6506</td>\n",
       "    </tr>\n",
       "    <tr>\n",
       "      <th>3</th>\n",
       "      <td>BGC0000023</td>\n",
       "      <td>Full</td>\n",
       "      <td>aurafuron</td>\n",
       "      <td>Polyketide</td>\n",
       "      <td>Stigmatella aurantiaca DW4/3-1</td>\n",
       "    </tr>\n",
       "    <tr>\n",
       "      <th>4</th>\n",
       "      <td>BGC0000024</td>\n",
       "      <td>Full</td>\n",
       "      <td>aureothin</td>\n",
       "      <td>Polyketide</td>\n",
       "      <td>Streptomyces thioluteus</td>\n",
       "    </tr>\n",
       "  </tbody>\n",
       "</table>\n",
       "</div>"
      ],
      "text/plain": [
       "  MIBiG accession Full / partial MIBiG info  Main product  \\\n",
       "0      BGC0000001                      Full   abyssomicin   \n",
       "1      BGC0000016                      Full  amphotericin   \n",
       "2      BGC0000017                      Full      anatoxin   \n",
       "3      BGC0000023                      Full     aurafuron   \n",
       "4      BGC0000024                      Full     aureothin   \n",
       "\n",
       "      Biosynthetic class                        Organism  \n",
       "0             Polyketide  Verrucosispora maris AB-18-032  \n",
       "1                  Other            Streptomyces nodosus  \n",
       "2  Alkaloid / Polyketide       Oscillatoria sp. PCC 6506  \n",
       "3             Polyketide  Stigmatella aurantiaca DW4/3-1  \n",
       "4             Polyketide         Streptomyces thioluteus  "
      ]
     },
     "execution_count": 2,
     "metadata": {},
     "output_type": "execute_result"
    }
   ],
   "source": [
    "mibig = pd.read_excel('mibig.xlsx')\n",
    "mibig.head()"
   ]
  },
  {
   "cell_type": "code",
   "execution_count": 3,
   "metadata": {
    "collapsed": false
   },
   "outputs": [],
   "source": [
    "urlbase = \"https://www.ncbi.nlm.nih.gov/genome/?term=\""
   ]
  },
  {
   "cell_type": "markdown",
   "metadata": {},
   "source": [
    "## Search Each Organism Name on NCBI and download genome if it appears in records"
   ]
  },
  {
   "cell_type": "code",
   "execution_count": 71,
   "metadata": {
    "collapsed": false
   },
   "outputs": [
    {
     "name": "stdout",
     "output_type": "stream",
     "text": [
      "0\n",
      "ftp://ftp.ncbi.nlm.nih.gov/genomes/all/GCF/000/204/155/GCF_000204155.1_ASM20415v1/GCF_000204155.1_ASM20415v1_genomic.fna.gz\n",
      "1\n",
      "ftp://ftp.ncbi.nlm.nih.gov/genomes/all/GCF/000/819/545/GCF_000819545.1_ASM81954v1/GCF_000819545.1_ASM81954v1_genomic.fna.gz\n",
      "2\n",
      "3\n",
      "ftp://ftp.ncbi.nlm.nih.gov/genomes/all/GCF/000/165/485/GCF_000165485.1_ASM16548v1/GCF_000165485.1_ASM16548v1_genomic.fna.gz\n",
      "4\n"
     ]
    }
   ],
   "source": [
    "#loop through all organisms listed in MiBig\n",
    "for ii in np.arange(0,5):# set to np.arange(len(mibig)) for full download\n",
    "    print ii\n",
    "    # create url to parse on NCBI website\n",
    "    full_url = urlbase+mibig['Organism'].iloc[ii].replace(' ','%2B')\n",
    "    page = urllib2.urlopen(full_url)\n",
    "    soup = BeautifulSoup(page)\n",
    "    \n",
    "    #extract title of search with beautiful soup\n",
    "    title = soup.html.head.title\n",
    "    title = str(title).rstrip('  - Genome - NCBI</title>').lstrip('<title>').replace(' ','_')\n",
    "    links = soup.find_all('a')\n",
    "    for link in links:\n",
    "        tmp = link.get('href')\n",
    "        #find link for fna download\n",
    "        if 'fna.gz' in str(tmp):\n",
    "            print tmp\n",
    "            # download fna.gz file\n",
    "            urllib.urlretrieve(tmp,title+'.fna.gz')\n",
    "            f = gzip.open(title+'.fna.gz', 'rb')\n",
    "            file_content = f.read()\n",
    "            f.close()\n",
    "            \n",
    "            # open fna.gz file and write to fasta\n",
    "            f = open('./RawFasta/'+title+'.fa','w')\n",
    "            for line in file_content:\n",
    "                f.write(line)\n",
    "            f.close()\n",
    "            # pause for a second to avoid abusing site\n",
    "            time.sleep(0.5)"
   ]
  },
  {
   "cell_type": "code",
   "execution_count": null,
   "metadata": {
    "collapsed": true
   },
   "outputs": [],
   "source": []
  }
 ],
 "metadata": {
  "anaconda-cloud": {},
  "kernelspec": {
   "display_name": "Python [conda root]",
   "language": "python",
   "name": "conda-root-py"
  },
  "language_info": {
   "codemirror_mode": {
    "name": "ipython",
    "version": 2
   },
   "file_extension": ".py",
   "mimetype": "text/x-python",
   "name": "python",
   "nbconvert_exporter": "python",
   "pygments_lexer": "ipython2",
   "version": "2.7.12"
  }
 },
 "nbformat": 4,
 "nbformat_minor": 1
}
